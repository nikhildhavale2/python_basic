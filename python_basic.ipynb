{
  "cells": [
    {
      "cell_type": "markdown",
      "source": [
        "Assignment = 1\n",
        "\n",
        "Name = Basic Python\n",
        "#1. Explain the key features of Python that make it a popular choice for programming.\n",
        "\n",
        ">> Easy to Read: Python is easy to read and simple to use, making it great for beginners. Its clear syntax helps in writing code that is easy to understand. This helps people write clear and simple code.\n",
        "\n",
        ">> Flexible: Python can be used for many different things, like building websites, analyzing data, and creating games. It’s not limited to just one type of job.\n",
        "\n",
        ">> Built-in Tools: Python comes with lots of helpful tools and libraries right out of the box. These tools can help you with tasks like handling files or connecting to the internet, so you don’t need to start from scratch.\n",
        "\n",
        ">> Interactive: Python runs code line by line, which lets you test and fix your code quickly. You don’t have to wait for the whole program to run to see if it works.\n",
        "\n",
        ">> Works on Any Computer: Python programs can run on different types of computers and operating systems with little or no changes. This makes it easy to share your code with others.\n",
        "\n",
        ">> Easy to Connect with Other Tools: Python can work with other programming languages and tools, making it easy to build complex systems by combining different technologies.\n",
        "\n",
        "#2. Describe the role of predefined keywords in python and provide examples of how they are used in a program.\n",
        "\n",
        "In Python, predefined keywords are special words that the language uses for its own purposes. These keywords have specific meanings and cannot be used for anything else in your code. They help Python understand what you want to do with your program. Here’s a simple breakdown of their role and some examples:\n",
        "\n",
        ">> Defining Structure: Keywords help structure your code by defining how different parts of the program should work. For example, 'if' is used to start a conditional statement, and 'def' is used to define a function.\n"
      ],
      "metadata": {
        "id": "ocBJ66leRMb1"
      },
      "id": "ocBJ66leRMb1"
    },
    {
      "cell_type": "code",
      "source": [
        "age = 18\n",
        "if age >= 18:\n",
        "    print(\"You are an adult.\")\n"
      ],
      "metadata": {
        "colab": {
          "base_uri": "https://localhost:8080/"
        },
        "id": "E7PJsEr8SGRf",
        "outputId": "25ab1d02-14b7-470a-b6ff-a1a50f8d89b8"
      },
      "id": "E7PJsEr8SGRf",
      "execution_count": 1,
      "outputs": [
        {
          "output_type": "stream",
          "name": "stdout",
          "text": [
            "You are an adult.\n"
          ]
        }
      ]
    },
    {
      "cell_type": "markdown",
      "source": [
        ">> Control Flow: Keywords control the flow of your program by making decisions and repeating actions. For example, 'while' and 'for' are used for loops that repeat actions"
      ],
      "metadata": {
        "id": "5Add8zBYSRJt"
      },
      "id": "5Add8zBYSRJt"
    },
    {
      "cell_type": "code",
      "source": [
        "for i in range(5):\n",
        "    print(i)"
      ],
      "metadata": {
        "colab": {
          "base_uri": "https://localhost:8080/"
        },
        "id": "IXeYDR9fSVfF",
        "outputId": "fd49b4a1-b080-4846-bbc5-f13b95b6776a"
      },
      "id": "IXeYDR9fSVfF",
      "execution_count": 2,
      "outputs": [
        {
          "output_type": "stream",
          "name": "stdout",
          "text": [
            "0\n",
            "1\n",
            "2\n",
            "3\n",
            "4\n"
          ]
        }
      ]
    },
    {
      "cell_type": "markdown",
      "source": [
        "#3. Compare and contrast mutable and immutable objects in Python with examples.\n",
        "\n",
        "In Python, objects can be either mutable or immutable. The key difference between them is whether or not you can change their content after they are created.\n",
        "\n",
        "Mutable Objects\n",
        "Definition: Mutable objects can be changed after they are created. You can modify, add, or remove elements in these objects.\n",
        "\n",
        "Examples:\n",
        "\t1. List : You can change an element, add new elements, or remove elements.\n",
        ""
      ],
      "metadata": {
        "id": "d392wp_CSbPV"
      },
      "id": "d392wp_CSbPV"
    },
    {
      "cell_type": "code",
      "source": [
        "my_list = [1, 2, 3]\n",
        "my_list[0] = 10 # Changing the first element\n",
        "print(my_list)"
      ],
      "metadata": {
        "colab": {
          "base_uri": "https://localhost:8080/"
        },
        "id": "XzyakL9mSj7_",
        "outputId": "7e513b30-0066-4284-9ec8-79b94d820353"
      },
      "id": "XzyakL9mSj7_",
      "execution_count": 11,
      "outputs": [
        {
          "output_type": "stream",
          "name": "stdout",
          "text": [
            "[10, 2, 3]\n"
          ]
        }
      ]
    },
    {
      "cell_type": "markdown",
      "source": [
        "Immutable Objects\n",
        "Definition: Immutable objects cannot be changed after they are created. If you need to modify an immutable object, you have to create a new one.\n",
        "\n",
        "\t1. Strings:\n",
        "\n",
        "\tStrings cannot be modified after they are created. Any operation that seems to change a string actually creates a new string.\n",
        "\n"
      ],
      "metadata": {
        "id": "Wy37m48_TutV"
      },
      "id": "Wy37m48_TutV"
    },
    {
      "cell_type": "code",
      "source": [
        "my_string = \"hello\"\n",
        "new_string = my_string.upper()  # This creates a new string with uppercase letters\n",
        "print(new_string)\n"
      ],
      "metadata": {
        "colab": {
          "base_uri": "https://localhost:8080/"
        },
        "id": "sGlULbfxT4Az",
        "outputId": "83de3a7e-2b31-4ac4-b154-12db461f6b68"
      },
      "id": "sGlULbfxT4Az",
      "execution_count": 13,
      "outputs": [
        {
          "output_type": "stream",
          "name": "stdout",
          "text": [
            "HELLO\n"
          ]
        }
      ]
    },
    {
      "cell_type": "markdown",
      "source": [
        "#4. Discuss the different types of operators in Python and provide examples of how they are used.\n",
        "\n",
        "In Python, operators are special symbols that perform operations on values or variables. Here’s a simple overview of the different types of operators and how they are used:\n",
        "\n",
        "1. Arithmetic Operators\n",
        "These operators perform basic mathematical operations.\n",
        "Addition ('+'): Adds two values.\n"
      ],
      "metadata": {
        "id": "pab17BwNUOKd"
      },
      "id": "pab17BwNUOKd"
    },
    {
      "cell_type": "code",
      "source": [
        "result = 5 + 3\n",
        "print(result)"
      ],
      "metadata": {
        "colab": {
          "base_uri": "https://localhost:8080/"
        },
        "id": "SL5s7JiqUXnn",
        "outputId": "79511cbf-e2c6-49ac-eef3-0d7fc4d7035a"
      },
      "id": "SL5s7JiqUXnn",
      "execution_count": 14,
      "outputs": [
        {
          "output_type": "stream",
          "name": "stdout",
          "text": [
            "8\n"
          ]
        }
      ]
    },
    {
      "cell_type": "markdown",
      "source": [
        "Subtraction (-): Subtracts one value from another."
      ],
      "metadata": {
        "id": "R4-zUAopUkIm"
      },
      "id": "R4-zUAopUkIm"
    },
    {
      "cell_type": "code",
      "source": [
        "result = 10 - 4\n",
        "print(result)"
      ],
      "metadata": {
        "colab": {
          "base_uri": "https://localhost:8080/"
        },
        "id": "Pjl1dc50Uo-e",
        "outputId": "5f552e11-9f24-43a9-a942-ed81150c701d"
      },
      "id": "Pjl1dc50Uo-e",
      "execution_count": 16,
      "outputs": [
        {
          "output_type": "stream",
          "name": "stdout",
          "text": [
            "6\n"
          ]
        }
      ]
    },
    {
      "cell_type": "markdown",
      "source": [
        "Multiplication ('*'): Multiplies two values."
      ],
      "metadata": {
        "id": "pviE1UlrUx43"
      },
      "id": "pviE1UlrUx43"
    },
    {
      "cell_type": "code",
      "source": [
        "result = 6 * 7\n",
        "print(result)"
      ],
      "metadata": {
        "colab": {
          "base_uri": "https://localhost:8080/"
        },
        "id": "P8r60uCdU_a9",
        "outputId": "92297334-33df-4761-bd0f-946ba7c23586"
      },
      "id": "P8r60uCdU_a9",
      "execution_count": 17,
      "outputs": [
        {
          "output_type": "stream",
          "name": "stdout",
          "text": [
            "42\n"
          ]
        }
      ]
    },
    {
      "cell_type": "markdown",
      "source": [
        "Division (/): Divides one value by another. Always results in a float."
      ],
      "metadata": {
        "id": "sZhkk2_GVDu3"
      },
      "id": "sZhkk2_GVDu3"
    },
    {
      "cell_type": "code",
      "source": [
        "result = 10 / 5\n",
        "print(result)"
      ],
      "metadata": {
        "colab": {
          "base_uri": "https://localhost:8080/"
        },
        "id": "vQ82MXTKVH6l",
        "outputId": "07f74629-bb9b-40fb-f577-3899cdc5564e"
      },
      "id": "vQ82MXTKVH6l",
      "execution_count": 32,
      "outputs": [
        {
          "output_type": "stream",
          "name": "stdout",
          "text": [
            "2.0\n"
          ]
        }
      ]
    },
    {
      "cell_type": "markdown",
      "source": [
        "Modulus (%): Returns the remainder of the division.\n"
      ],
      "metadata": {
        "id": "K7_GE2ILXN3E"
      },
      "id": "K7_GE2ILXN3E"
    },
    {
      "cell_type": "code",
      "source": [
        "result = a % b\n",
        "print(result)"
      ],
      "metadata": {
        "colab": {
          "base_uri": "https://localhost:8080/"
        },
        "id": "8Ye0UJHuXQ92",
        "outputId": "35eddeda-20f4-4dbd-b62b-8295b4d52039"
      },
      "id": "8Ye0UJHuXQ92",
      "execution_count": 31,
      "outputs": [
        {
          "output_type": "stream",
          "name": "stdout",
          "text": [
            "0\n"
          ]
        }
      ]
    },
    {
      "cell_type": "markdown",
      "source": [
        "2. Comparison Operators\n",
        "Comparison operators are used to compare values. They return a boolean value (True or False).\n",
        "\n",
        "Equal to ('=='): Checks if two values are equal.\n"
      ],
      "metadata": {
        "id": "kb3BIGVWXZne"
      },
      "id": "kb3BIGVWXZne"
    },
    {
      "cell_type": "code",
      "source": [
        "result = (a == b)\n",
        "print(result)"
      ],
      "metadata": {
        "colab": {
          "base_uri": "https://localhost:8080/"
        },
        "id": "tiven8UmXh5B",
        "outputId": "d946cf08-51fb-470c-fbed-afdf0d5ba593"
      },
      "id": "tiven8UmXh5B",
      "execution_count": 30,
      "outputs": [
        {
          "output_type": "stream",
          "name": "stdout",
          "text": [
            "False\n"
          ]
        }
      ]
    },
    {
      "cell_type": "markdown",
      "source": [
        "Not equal to ('!='): Checks if two values are not equal."
      ],
      "metadata": {
        "id": "vlIwoh7fYMxD"
      },
      "id": "vlIwoh7fYMxD"
    },
    {
      "cell_type": "code",
      "source": [
        "result = (a != b)\n",
        "print(result)"
      ],
      "metadata": {
        "colab": {
          "base_uri": "https://localhost:8080/"
        },
        "id": "W4qZyu2WYRtr",
        "outputId": "30218342-6825-436a-d6eb-1bdea143da92"
      },
      "id": "W4qZyu2WYRtr",
      "execution_count": 33,
      "outputs": [
        {
          "output_type": "stream",
          "name": "stdout",
          "text": [
            "True\n"
          ]
        }
      ]
    },
    {
      "cell_type": "markdown",
      "source": [
        "Greater than ('>'): Checks if the first value is greater than the second.\n"
      ],
      "metadata": {
        "id": "nQvLtH7bYg-_"
      },
      "id": "nQvLtH7bYg-_"
    },
    {
      "cell_type": "code",
      "source": [
        "result = (a > b)\n",
        "print(result)"
      ],
      "metadata": {
        "colab": {
          "base_uri": "https://localhost:8080/"
        },
        "id": "y-smwm9uYiEf",
        "outputId": "619fa2b6-b957-4b47-c1dc-64817f2e873c"
      },
      "id": "y-smwm9uYiEf",
      "execution_count": 34,
      "outputs": [
        {
          "output_type": "stream",
          "name": "stdout",
          "text": [
            "True\n"
          ]
        }
      ]
    },
    {
      "cell_type": "markdown",
      "source": [
        "Less than ('<'): Checks if the first value is less than the second."
      ],
      "metadata": {
        "id": "X3IuinPBY-Bm"
      },
      "id": "X3IuinPBY-Bm"
    },
    {
      "cell_type": "code",
      "source": [
        "result = (a < b)\n",
        "print(result)"
      ],
      "metadata": {
        "colab": {
          "base_uri": "https://localhost:8080/"
        },
        "id": "5_qg-RzzZBa-",
        "outputId": "126178c4-70f8-49c7-cf96-15c0f78a3f0f"
      },
      "id": "5_qg-RzzZBa-",
      "execution_count": 35,
      "outputs": [
        {
          "output_type": "stream",
          "name": "stdout",
          "text": [
            "False\n"
          ]
        }
      ]
    },
    {
      "cell_type": "markdown",
      "source": [
        "Greater than or equal to ('>='): Checks if the first value is greater than or equal to the second."
      ],
      "metadata": {
        "id": "nS555IPEZKWC"
      },
      "id": "nS555IPEZKWC"
    },
    {
      "cell_type": "code",
      "source": [
        "result = (a >= b)\n",
        "print(result)"
      ],
      "metadata": {
        "colab": {
          "base_uri": "https://localhost:8080/"
        },
        "id": "vVJd0GJgZHVn",
        "outputId": "dbd57d34-b5b3-4dd3-afd4-18699a29a174"
      },
      "id": "vVJd0GJgZHVn",
      "execution_count": 36,
      "outputs": [
        {
          "output_type": "stream",
          "name": "stdout",
          "text": [
            "True\n"
          ]
        }
      ]
    },
    {
      "cell_type": "markdown",
      "source": [
        "#5. Explain the concept of type casting in python with examples.\n",
        "\n",
        "Type casting in Python is the process of converting a value from one data type to another.\n",
        "Common Data Types in Python\n",
        "\n",
        "Integers (int): Whole numbers, like 5 or -3.\n",
        "\n",
        "Floats (float): Numbers with decimal points, like 5.0 or -3.14.\n",
        "\n",
        "Strings (str): Text, like \"hello\" or \"123\".\n",
        "\n",
        "Booleans (bool): True or False values."
      ],
      "metadata": {
        "id": "WZEGkHY2ZS9_"
      },
      "id": "WZEGkHY2ZS9_"
    },
    {
      "cell_type": "markdown",
      "source": [
        " Converting from Integer to Float"
      ],
      "metadata": {
        "id": "mUzyCy1EaKdB"
      },
      "id": "mUzyCy1EaKdB"
    },
    {
      "cell_type": "code",
      "source": [
        "x = 5       # int\n",
        "y = float(x)  # Convert int to float\n",
        "print(y)    # Output: 5.0"
      ],
      "metadata": {
        "colab": {
          "base_uri": "https://localhost:8080/"
        },
        "id": "-TMByx6JZRt0",
        "outputId": "63b8f865-ab9e-4888-a158-1b99dfc96755"
      },
      "id": "-TMByx6JZRt0",
      "execution_count": 40,
      "outputs": [
        {
          "output_type": "stream",
          "name": "stdout",
          "text": [
            "5.0\n"
          ]
        }
      ]
    },
    {
      "cell_type": "markdown",
      "source": [
        "Converting from Float to Integer"
      ],
      "metadata": {
        "id": "UcL4Jp6AaXXU"
      },
      "id": "UcL4Jp6AaXXU"
    },
    {
      "cell_type": "code",
      "source": [
        "x = \"123\"   # str\n",
        "y = int(x)  # Convert str to int\n",
        "print(y)    # Output: 123"
      ],
      "metadata": {
        "colab": {
          "base_uri": "https://localhost:8080/"
        },
        "id": "KJ9uzaYsaaOF",
        "outputId": "839bcc0c-220a-438d-8a92-162eedb586df"
      },
      "id": "KJ9uzaYsaaOF",
      "execution_count": 41,
      "outputs": [
        {
          "output_type": "stream",
          "name": "stdout",
          "text": [
            "123\n"
          ]
        }
      ]
    },
    {
      "cell_type": "markdown",
      "source": [
        "Converting from String to Integer"
      ],
      "metadata": {
        "id": "Xv4wgMQladkP"
      },
      "id": "Xv4wgMQladkP"
    },
    {
      "cell_type": "code",
      "source": [
        "x = \"123\"   # str\n",
        "y = int(x)  # Convert str to int\n",
        "print(y)    # Output: 123"
      ],
      "metadata": {
        "colab": {
          "base_uri": "https://localhost:8080/"
        },
        "id": "VlG0zyUhahO_",
        "outputId": "4da3aa01-7124-4c54-8666-1d8b09810a13"
      },
      "id": "VlG0zyUhahO_",
      "execution_count": 42,
      "outputs": [
        {
          "output_type": "stream",
          "name": "stdout",
          "text": [
            "123\n"
          ]
        }
      ]
    },
    {
      "cell_type": "markdown",
      "source": [
        " Converting from String to Float"
      ],
      "metadata": {
        "id": "pE7p6QA0aubq"
      },
      "id": "pE7p6QA0aubq"
    },
    {
      "cell_type": "code",
      "source": [
        "x = \"3.14\"  # str\n",
        "y = float(x)  # Convert str to float\n",
        "print(y)    # Output: 3.14"
      ],
      "metadata": {
        "colab": {
          "base_uri": "https://localhost:8080/"
        },
        "id": "NekzS6BBayrL",
        "outputId": "611ea8d4-4b51-43bb-fd0c-ba6b0900ba63"
      },
      "id": "NekzS6BBayrL",
      "execution_count": 43,
      "outputs": [
        {
          "output_type": "stream",
          "name": "stdout",
          "text": [
            "3.14\n"
          ]
        }
      ]
    },
    {
      "cell_type": "markdown",
      "source": [
        "Converting from Integer or Float to String"
      ],
      "metadata": {
        "id": "BSo1oPGLa1WO"
      },
      "id": "BSo1oPGLa1WO"
    },
    {
      "cell_type": "code",
      "source": [
        "x = 42      # int\n",
        "y = str(x)  # Convert int to str\n",
        "print(y)    # Output: \"42\"\n",
        "\n",
        "z = 3.14    # float\n",
        "w = str(z)  # Convert float to str\n",
        "print(w)    # Output: \"3.14\"\n"
      ],
      "metadata": {
        "colab": {
          "base_uri": "https://localhost:8080/"
        },
        "id": "soXlF-QLa316",
        "outputId": "4cac0cde-530e-4fa7-a994-1cc35a345b5c"
      },
      "id": "soXlF-QLa316",
      "execution_count": 44,
      "outputs": [
        {
          "output_type": "stream",
          "name": "stdout",
          "text": [
            "42\n",
            "3.14\n"
          ]
        }
      ]
    },
    {
      "cell_type": "markdown",
      "source": [
        "#6. How do conditional statements work in Python? Illustrate with examples.\n",
        "\n",
        "Conditional statements in Python allow your program to make decisions and execute different blocks of code based on certain conditions.\n",
        "\n",
        "\n",
        "Conditional statements in Python allow your program to make decisions and execute different blocks of code based on certain conditions. They are essential for controlling the flow of your program. The primary conditional statements in Python are if, elif, and else.\n",
        "\n",
        "Basic Syntax\n",
        "if Statement: Executes a block of code if its condition is true.\n",
        "\n",
        "elif Statement: Stands for \"else if,\" and allows you to check multiple conditions.\n",
        "\n",
        "else Statement: Executes a block of code if none of the preceding conditions are true.\n"
      ],
      "metadata": {
        "id": "l4ivB6LzbCwL"
      },
      "id": "l4ivB6LzbCwL"
    },
    {
      "cell_type": "code",
      "source": [
        "age = 20\n",
        "\n",
        "if age < 13:\n",
        "    print(\"You are a child.\")\n",
        "elif age < 20:\n",
        "    print(\"You are a teenager.\")\n",
        "else:\n",
        "    print(\"You are an adult.\")"
      ],
      "metadata": {
        "colab": {
          "base_uri": "https://localhost:8080/"
        },
        "id": "EboUFMlzbbmW",
        "outputId": "dc2caa41-6d09-4ce7-c772-b42b66d6e8f0"
      },
      "id": "EboUFMlzbbmW",
      "execution_count": 45,
      "outputs": [
        {
          "output_type": "stream",
          "name": "stdout",
          "text": [
            "You are an adult.\n"
          ]
        }
      ]
    },
    {
      "cell_type": "markdown",
      "source": [
        "#7. Describe the different types of loops in Python and their use cases with examples.\n",
        "\n",
        "In Python, loops are used to execute a block of code repeatedly based on certain conditions. Python supports two main types of loops: 'for' loops and 'while' loops. Each has specific use cases and can be used in different scenarios.\n",
        "\n",
        "'for' Loop\n",
        "The for loop is used to iterate over a sequence (such as a list, tuple, string, or range) and execute a block of code for each item in that sequence.\n",
        "\n",
        "Use Case : Performing an operation a specific number of times.\n",
        "\n",
        "Example:"
      ],
      "metadata": {
        "id": "ANDMT0NubqEv"
      },
      "id": "ANDMT0NubqEv"
    },
    {
      "cell_type": "code",
      "source": [
        "fruits = ['apple', 'banana', 'cherry']\n",
        "for fruit in fruits:\n",
        "    print(fruit)"
      ],
      "metadata": {
        "colab": {
          "base_uri": "https://localhost:8080/"
        },
        "id": "q69jDOWIcseq",
        "outputId": "83b82f4e-abae-44bf-e95e-1434e54549c5"
      },
      "id": "q69jDOWIcseq",
      "execution_count": 46,
      "outputs": [
        {
          "output_type": "stream",
          "name": "stdout",
          "text": [
            "apple\n",
            "banana\n",
            "cherry\n"
          ]
        }
      ]
    },
    {
      "cell_type": "markdown",
      "source": [
        "Using range() to Iterate a Specific Number of Times:"
      ],
      "metadata": {
        "id": "-z0jbTiOczMQ"
      },
      "id": "-z0jbTiOczMQ"
    },
    {
      "cell_type": "code",
      "source": [
        "for i in range(5):\n",
        "    print(i)"
      ],
      "metadata": {
        "colab": {
          "base_uri": "https://localhost:8080/"
        },
        "id": "3O0MF5Ihc0E0",
        "outputId": "4ff1d504-5d40-466a-9dee-a9a284744bd3"
      },
      "id": "3O0MF5Ihc0E0",
      "execution_count": 47,
      "outputs": [
        {
          "output_type": "stream",
          "name": "stdout",
          "text": [
            "0\n",
            "1\n",
            "2\n",
            "3\n",
            "4\n"
          ]
        }
      ]
    },
    {
      "cell_type": "markdown",
      "source": [
        "Iterating Over Characters in a String:"
      ],
      "metadata": {
        "id": "LBiFHBHPc4s0"
      },
      "id": "LBiFHBHPc4s0"
    },
    {
      "cell_type": "code",
      "source": [
        "word = \"hello\"\n",
        "for letter in word:\n",
        "    print(letter)"
      ],
      "metadata": {
        "colab": {
          "base_uri": "https://localhost:8080/"
        },
        "id": "ejftTbXkc8nn",
        "outputId": "cac2d420-e381-457d-854d-86d6e73ae1a6"
      },
      "id": "ejftTbXkc8nn",
      "execution_count": 48,
      "outputs": [
        {
          "output_type": "stream",
          "name": "stdout",
          "text": [
            "h\n",
            "e\n",
            "l\n",
            "l\n",
            "o\n"
          ]
        }
      ]
    },
    {
      "cell_type": "markdown",
      "source": [
        "'while' Loop\n",
        "The while loop repeatedly executes a block of code as long as a specified condition remains true. It is useful when you do not know in advance how many times you need to execute the loop.\n",
        "\n",
        "Use case: Repeating a task until a condition changes.\n",
        "\n",
        "Examples:\n",
        "\n",
        "Basic 'while' Loop:"
      ],
      "metadata": {
        "id": "H24RPfPYdCEV"
      },
      "id": "H24RPfPYdCEV"
    },
    {
      "cell_type": "code",
      "source": [
        "count = 0\n",
        "while count < 5:\n",
        "    print(count)\n",
        "    count = count + 1"
      ],
      "metadata": {
        "colab": {
          "base_uri": "https://localhost:8080/"
        },
        "id": "mGJNZtQHdWKF",
        "outputId": "9954bf81-5631-4ca9-cfaf-ed76ada84804"
      },
      "id": "mGJNZtQHdWKF",
      "execution_count": 53,
      "outputs": [
        {
          "output_type": "stream",
          "name": "stdout",
          "text": [
            "0\n",
            "1\n",
            "2\n",
            "3\n",
            "4\n"
          ]
        }
      ]
    }
  ],
  "metadata": {
    "kernelspec": {
      "display_name": "Python 3 (ipykernel)",
      "language": "python",
      "name": "python3"
    },
    "language_info": {
      "codemirror_mode": {
        "name": "ipython",
        "version": 3
      },
      "file_extension": ".py",
      "mimetype": "text/x-python",
      "name": "python",
      "nbconvert_exporter": "python",
      "pygments_lexer": "ipython3",
      "version": "3.10.8"
    },
    "colab": {
      "provenance": []
    }
  },
  "nbformat": 4,
  "nbformat_minor": 5
}